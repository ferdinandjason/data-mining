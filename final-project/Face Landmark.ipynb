{
 "cells": [
  {
   "cell_type": "code",
   "execution_count": 50,
   "metadata": {},
   "outputs": [],
   "source": [
    "import cv2\n",
    "import dlib\n",
    "import math\n",
    "import pickle\n",
    "import numpy as np\n",
    "import matplotlib.pyplot as plt\n",
    "\n",
    "from sklearn.model_selection import train_test_split\n",
    "from sklearn.metrics import classification_report, confusion_matrix, accuracy_score\n",
    "from sklearn.svm import SVC\n",
    "\n",
    "%matplotlib inline"
   ]
  },
  {
   "cell_type": "code",
   "execution_count": 51,
   "metadata": {},
   "outputs": [],
   "source": [
    "face_detector = dlib.get_frontal_face_detector()\n",
    "landmark_predictor = dlib.shape_predictor(\"./dlib/shape_predictor_68_face_landmarks.dat\")"
   ]
  },
  {
   "cell_type": "code",
   "execution_count": 53,
   "metadata": {},
   "outputs": [],
   "source": [
    "with open('./dataset/ck.pikle','rb') as f:\n",
    "    ck_data, ck_label = pickle.load(f)\n",
    "    \n",
    "face_landmarks_train = [] \n",
    "face_label_train = []\n",
    "face_landmarks_test = []\n",
    "face_label_test = []\n",
    "\n",
    "ck_data_train, ck_data_test, ck_label_train, ck_label_test = train_test_split(ck_data, np.asarray(ck_label), test_size=0.25, random_state=42)\n",
    "counter = 1\n",
    "\n",
    "for face, label in zip(ck_data_train, ck_label_train):\n",
    "    face = np.array(face)\n",
    "    faces = face_detector(face.reshape(128,128), 1)\n",
    "    for k,d in enumerate(faces):\n",
    "        shape = landmark_predictor(face.reshape(128,128), d)\n",
    "        \n",
    "        xlist = [float(shape.part(i).x) for i in range(68)]\n",
    "        ylist = [float(shape.part(i).y) for i in range(68)]\n",
    "        xmean = np.mean(xlist)\n",
    "        ymean = np.mean(ylist)\n",
    "        xcentral = xlist - xmean\n",
    "        ycentral = ylist - ymean\n",
    "            \n",
    "        landmarks_vectorised = []\n",
    "        for x, y, w, z in zip(xcentral, ycentral, xlist, ylist):\n",
    "            landmarks_vectorised.append(w)\n",
    "            landmarks_vectorised.append(z)\n",
    "            \n",
    "            meannp = np.asarray((ymean,xmean))\n",
    "            coornp = np.asarray((z,w))\n",
    "            dist = np.linalg.norm(coornp-meannp)\n",
    "            \n",
    "            landmarks_vectorised.append(dist)\n",
    "            landmarks_vectorised.append((math.atan2(y, x)*360)/(2*math.pi))\n",
    "        \n",
    "        face_landmarks_train.append(landmarks_vectorised)\n",
    "        face_label_train.append(label)\n",
    "    \n",
    "for face, label in zip(ck_data_test, ck_label_test):\n",
    "    face = np.array(face)\n",
    "    faces = face_detector(face.reshape(128,128), 1)\n",
    "    \n",
    "    for k,d in enumerate(faces):\n",
    "        shape = landmark_predictor(face.reshape(128,128), d)\n",
    "        \n",
    "        xlist = [float(shape.part(i).x) for i in range(68)]\n",
    "        ylist = [float(shape.part(i).y) for i in range(68)]\n",
    "        xmean = np.mean(xlist)\n",
    "        ymean = np.mean(ylist)\n",
    "        xcentral = xlist - xmean\n",
    "        ycentral = ylist - ymean\n",
    "        \n",
    "        landmarks_vectorised = []\n",
    "        for x, y, w, z in zip(xcentral, ycentral, xlist, ylist):\n",
    "            landmarks_vectorised.append(w)\n",
    "            landmarks_vectorised.append(z)\n",
    "            \n",
    "            meannp = np.asarray((ymean,xmean))\n",
    "            coornp = np.asarray((z,w))\n",
    "            dist = np.linalg.norm(coornp-meannp)\n",
    "            \n",
    "            landmarks_vectorised.append(dist)\n",
    "            landmarks_vectorised.append((math.atan2(y, x)*360)/(2*math.pi))\n",
    "        \n",
    "        face_landmarks_test.append(landmarks_vectorised)\n",
    "        face_label_test.append(label)\n",
    "        "
   ]
  },
  {
   "cell_type": "code",
   "execution_count": 54,
   "metadata": {},
   "outputs": [
    {
     "name": "stdout",
     "output_type": "stream",
     "text": [
      "              precision    recall  f1-score   support\n",
      "\n",
      "     Neutral       0.80      0.67      0.73        12\n",
      "       Angry       0.77      0.91      0.83        11\n",
      "     Disgust       0.91      0.91      0.91        11\n",
      "        Fear       1.00      0.50      0.67         6\n",
      "       Happy       0.94      1.00      0.97        15\n",
      "         Sad       0.56      0.83      0.67         6\n",
      "    Surprise       1.00      0.95      0.98        21\n",
      "\n",
      "   micro avg       0.87      0.87      0.87        82\n",
      "   macro avg       0.85      0.82      0.82        82\n",
      "weighted avg       0.88      0.87      0.86        82\n",
      "\n",
      "[[ 8  2  0  0  0  2  0]\n",
      " [ 0 10  0  0  0  1  0]\n",
      " [ 1  0 10  0  0  0  0]\n",
      " [ 1  0  1  3  1  0  0]\n",
      " [ 0  0  0  0 15  0  0]\n",
      " [ 0  1  0  0  0  5  0]\n",
      " [ 0  0  0  0  0  1 20]]\n",
      "0.8658536585365854\n"
     ]
    }
   ],
   "source": [
    "target_classes = [\"Neutral\", \"Angry\", \"Disgust\", \"Fear\", \"Happy\", \"Sad\", \"Surprise\"]\n",
    "\n",
    "clf = SVC(kernel='linear', probability=True, tol=1e-3)\n",
    "\n",
    "clf = clf.fit(face_landmarks_train, face_label_train)\n",
    "ck_label_predict = clf.predict(face_landmarks_test)\n",
    "\n",
    "print(classification_report(ck_label_test, ck_label_predict, target_names=target_classes))\n",
    "print(confusion_matrix(ck_label_test, ck_label_predict, labels=range(7)))\n",
    "print(accuracy_score(ck_label_test, ck_label_predict))"
   ]
  },
  {
   "cell_type": "code",
   "execution_count": 55,
   "metadata": {},
   "outputs": [
    {
     "data": {
      "text/plain": [
       "245"
      ]
     },
     "execution_count": 55,
     "metadata": {},
     "output_type": "execute_result"
    }
   ],
   "source": [
    "len(face_landmarks_train)"
   ]
  },
  {
   "cell_type": "code",
   "execution_count": null,
   "metadata": {},
   "outputs": [],
   "source": []
  }
 ],
 "metadata": {
  "kernelspec": {
   "display_name": "Python 3",
   "language": "python",
   "name": "python3"
  },
  "language_info": {
   "codemirror_mode": {
    "name": "ipython",
    "version": 3
   },
   "file_extension": ".py",
   "mimetype": "text/x-python",
   "name": "python",
   "nbconvert_exporter": "python",
   "pygments_lexer": "ipython3",
   "version": "3.6.8"
  }
 },
 "nbformat": 4,
 "nbformat_minor": 2
}
