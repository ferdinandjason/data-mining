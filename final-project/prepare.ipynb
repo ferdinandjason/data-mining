{
 "cells": [
  {
   "cell_type": "code",
   "execution_count": 1,
   "metadata": {},
   "outputs": [],
   "source": [
    "import os\n",
    "import cv2\n",
    "import cloudpickle\n",
    "import numpy as np\n",
    "import matplotlib.pyplot as plt\n",
    "\n",
    "from skimage import io, exposure, img_as_ubyte\n",
    "\n",
    "%matplotlib inline"
   ]
  },
  {
   "cell_type": "code",
   "execution_count": 2,
   "metadata": {},
   "outputs": [],
   "source": [
    "face_cascade = cv2.CascadeClassifier('./opencv/haarcascade_frontalface_default.xml')"
   ]
  },
  {
   "cell_type": "code",
   "execution_count": 7,
   "metadata": {},
   "outputs": [],
   "source": [
    "def load_yalefaces_dataset():\n",
    "    dataframe = {}\n",
    "    \n",
    "    BASE_PATH = './dataset/yalefaces/'\n",
    "    PREFIX_NAME = 'subject'\n",
    "    for image_path in os.listdir(BASE_PATH):\n",
    "        if image_path.startswith(PREFIX_NAME):\n",
    "            face = io.imread(os.path.join(BASE_PATH, image_path))\n",
    "            face_equalized = exposure.equalize_adapthist(face)\n",
    "            face_point = face_cascade.detectMultiScale(img_as_ubyte(face_equalized), scaleFactor=1.09)\n",
    "            (x,y,w,h) = face_point[0]\n",
    "            croped_face = face_equalized[y:y+h, x:x+w]\n",
    "            resized_face = img_as_ubyte(cv2.resize(croped_face, (64,64)))\n",
    "            \n",
    "            classes = image_path.split('.')[1]\n",
    "            try:\n",
    "                dataframe[classes].append(resized_face)\n",
    "            except:\n",
    "                dataframe[classes] = [resized_face]\n",
    "    \n",
    "    return dataframe"
   ]
  },
  {
   "cell_type": "code",
   "execution_count": 8,
   "metadata": {},
   "outputs": [
    {
     "name": "stderr",
     "output_type": "stream",
     "text": [
      "/home/ferdinand/anaconda3/lib/python3.6/site-packages/skimage/util/dtype.py:122: UserWarning: Possible precision loss when converting from float64 to uint8\n",
      "  .format(dtypeobj_in, dtypeobj_out))\n"
     ]
    }
   ],
   "source": [
    "# load yalefaces dataset\n",
    "yalefaces_dataset = load_yalefaces_dataset()\n",
    "# dump in into file\n",
    "with open('./dataset/yalefaces.dump','wb') as f:\n",
    "    cloudpickle.dump(yalefaces_dataset, f)"
   ]
  },
  {
   "cell_type": "code",
   "execution_count": null,
   "metadata": {},
   "outputs": [],
   "source": []
  }
 ],
 "metadata": {
  "kernelspec": {
   "display_name": "Python 3",
   "language": "python",
   "name": "python3"
  },
  "language_info": {
   "codemirror_mode": {
    "name": "ipython",
    "version": 3
   },
   "file_extension": ".py",
   "mimetype": "text/x-python",
   "name": "python",
   "nbconvert_exporter": "python",
   "pygments_lexer": "ipython3",
   "version": "3.6.8"
  }
 },
 "nbformat": 4,
 "nbformat_minor": 2
}
