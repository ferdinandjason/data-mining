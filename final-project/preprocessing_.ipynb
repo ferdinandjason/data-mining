{
 "cells": [
  {
   "cell_type": "code",
   "execution_count": 5,
   "metadata": {},
   "outputs": [],
   "source": [
    "import os\n",
    "import cv2\n",
    "import pickle\n",
    "import numpy as np\n",
    "import pandas as pd\n",
    "import matplotlib.pyplot as plt\n",
    "\n",
    "from sklearn.decomposition import PCA as PrincipalComponentAnalysis\n",
    "from sklearn.discriminant_analysis import LinearDiscriminantAnalysis\n",
    "\n",
    "from sklearn.model_selection import GridSearchCV\n",
    "from sklearn.svm import SVC\n",
    "from sklearn.metrics import accuracy_score, classification_report\n",
    "\n",
    "%matplotlib inline"
   ]
  },
  {
   "cell_type": "code",
   "execution_count": 2,
   "metadata": {},
   "outputs": [],
   "source": [
    "DATASET_PATH = 'dataset'\n",
    "YALE_DUMPFILE_PATH = 'yalefaces.dump'\n",
    "\n",
    "with open(os.path.join('.',DATASET_PATH,YALE_DUMPFILE_PATH), 'rb') as f:\n",
    "    dataset, labels, test_dataset, test_labels = pickle.load(f)"
   ]
  },
  {
   "cell_type": "code",
   "execution_count": 20,
   "metadata": {},
   "outputs": [
    {
     "name": "stdout",
     "output_type": "stream",
     "text": [
      "              precision    recall  f1-score   support\n",
      "\n",
      " centerlight       0.00      0.00      0.00         1\n",
      "     glasses       0.00      0.00      0.00         1\n",
      "       happy       0.00      0.00      0.00         1\n",
      "   leftlight       0.00      0.00      0.00         1\n",
      "   noglasses       0.00      0.00      0.00         1\n",
      "      normal       0.00      0.00      0.00         1\n",
      "  rightlight       0.00      0.00      0.00         1\n",
      "         sad       0.00      0.00      0.00         1\n",
      "      sleepy       0.00      0.00      0.00         1\n",
      "   surprised       0.00      0.00      0.00         1\n",
      "        wink       0.14      1.00      0.25         1\n",
      "\n",
      "   micro avg       0.09      0.09      0.09        11\n",
      "   macro avg       0.01      0.09      0.02        11\n",
      "weighted avg       0.01      0.09      0.02        11\n",
      "\n",
      "['wink' 'sad' 'wink' 'wink' 'surprised' 'surprised' 'surprised' 'wink'\n",
      " 'wink' 'wink' 'wink']\n",
      "['sleepy' 'normal' 'surprised' 'noglasses' 'centerlight' 'happy'\n",
      " 'leftlight' 'sad' 'glasses' 'rightlight' 'wink']\n"
     ]
    },
    {
     "name": "stderr",
     "output_type": "stream",
     "text": [
      "/home/ferdinand/anaconda3/lib/python3.6/site-packages/sklearn/metrics/classification.py:1143: UndefinedMetricWarning: Precision and F-score are ill-defined and being set to 0.0 in labels with no predicted samples.\n",
      "  'precision', 'predicted', average, warn_for)\n"
     ]
    }
   ],
   "source": [
    "pca = PrincipalComponentAnalysis(n_components=1)\n",
    "pca.fit(dataset)\n",
    "\n",
    "clf_pca = SVC(kernel='rbf', gamma=0.7, C=1.0, degree=4)\n",
    "clf_pca.fit(pca.transform(dataset), labels)\n",
    "\n",
    "predict_labels = clf_pca.predict(pca.transform(test_dataset))\n",
    "print(classification_report(test_labels, predict_labels))\n",
    "print(predict_labels)\n",
    "print(test_labels)"
   ]
  },
  {
   "cell_type": "code",
   "execution_count": null,
   "metadata": {},
   "outputs": [],
   "source": []
  },
  {
   "cell_type": "code",
   "execution_count": null,
   "metadata": {},
   "outputs": [],
   "source": []
  },
  {
   "cell_type": "code",
   "execution_count": null,
   "metadata": {},
   "outputs": [],
   "source": []
  },
  {
   "cell_type": "code",
   "execution_count": null,
   "metadata": {},
   "outputs": [],
   "source": []
  },
  {
   "cell_type": "code",
   "execution_count": null,
   "metadata": {},
   "outputs": [],
   "source": []
  },
  {
   "cell_type": "code",
   "execution_count": null,
   "metadata": {},
   "outputs": [],
   "source": []
  }
 ],
 "metadata": {
  "kernelspec": {
   "display_name": "Python 3",
   "language": "python",
   "name": "python3"
  },
  "language_info": {
   "codemirror_mode": {
    "name": "ipython",
    "version": 3
   },
   "file_extension": ".py",
   "mimetype": "text/x-python",
   "name": "python",
   "nbconvert_exporter": "python",
   "pygments_lexer": "ipython3",
   "version": "3.6.8"
  }
 },
 "nbformat": 4,
 "nbformat_minor": 2
}
