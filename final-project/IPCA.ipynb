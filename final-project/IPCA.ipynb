{
 "cells": [
  {
   "cell_type": "code",
   "execution_count": 3,
   "metadata": {},
   "outputs": [],
   "source": [
    "import cv2\n",
    "import pickle\n",
    "import numpy as np\n",
    "import matplotlib.pyplot as plt\n",
    "\n",
    "from sklearn.model_selection import train_test_split\n",
    "from sklearn.model_selection import GridSearchCV\n",
    "from sklearn.metrics import classification_report\n",
    "from sklearn.metrics import confusion_matrix\n",
    "from sklearn.decomposition import PCA\n",
    "from sklearn.discriminant_analysis import LinearDiscriminantAnalysis\n",
    "from sklearn.svm import SVC\n",
    "\n",
    "%matplotlib inline"
   ]
  },
  {
   "cell_type": "code",
   "execution_count": 22,
   "metadata": {},
   "outputs": [],
   "source": [
    "with open('.\\dataset\\ck.pikle','rb') as f:\n",
    "    ck_data, ck_label = pickle.load(f)\n",
    "    \n",
    "ck_data_train, ck_data_test, ck_label_train, ck_label_test = train_test_split(ck_data, ck_label, test_size=0.25, random_state=42)"
   ]
  },
  {
   "cell_type": "code",
   "execution_count": 55,
   "metadata": {},
   "outputs": [
    {
     "name": "stderr",
     "output_type": "stream",
     "text": [
      "C:\\ProgramData\\Anaconda3\\lib\\site-packages\\sklearn\\discriminant_analysis.py:388: UserWarning: Variables are collinear.\n",
      "  warnings.warn(\"Variables are collinear.\")\n"
     ]
    }
   ],
   "source": [
    "lda = LinearDiscriminantAnalysis(solver='svd').fit(ck_data_train, ck_label_train)\n",
    "pca = PCA(n_components=6, svd_solver='randomized', whiten=True).fit(lda.transform(ck_data_train))\n",
    "\n",
    "ck_data_train_ipca = pca.transform(lda.transform(ck_data_train))\n",
    "ck_data_test_ipca = pca.transform(lda.transform(ck_data_test))"
   ]
  },
  {
   "cell_type": "code",
   "execution_count": 56,
   "metadata": {},
   "outputs": [
    {
     "name": "stdout",
     "output_type": "stream",
     "text": [
      "              precision    recall  f1-score   support\n",
      "\n",
      "     Neutral       0.57      0.62      0.59        13\n",
      "       Angry       0.53      0.57      0.55        14\n",
      "     Disgust       1.00      0.82      0.90        17\n",
      "        Fear       0.71      0.71      0.71         7\n",
      "       Happy       1.00      0.91      0.95        11\n",
      "         Sad       0.30      0.50      0.37         6\n",
      "    Surprise       1.00      0.86      0.92        14\n",
      "\n",
      "   micro avg       0.73      0.73      0.73        82\n",
      "   macro avg       0.73      0.71      0.72        82\n",
      "weighted avg       0.78      0.73      0.75        82\n",
      "\n",
      "[[ 8  2  0  0  0  3  0]\n",
      " [ 4  8  0  0  0  2  0]\n",
      " [ 1  1 14  1  0  0  0]\n",
      " [ 0  1  0  5  0  1  0]\n",
      " [ 1  0  0  0 10  0  0]\n",
      " [ 0  3  0  0  0  3  0]\n",
      " [ 0  0  0  1  0  1 12]]\n"
     ]
    }
   ],
   "source": [
    "target_classes = [\"Neutral\", \"Angry\", \"Disgust\", \"Fear\", \"Happy\", \"Sad\", \"Surprise\"]\n",
    "\n",
    "clf = SVC(kernel='rbf', class_weight='balanced', gamma=0.0001, C=1000.0)\n",
    "\n",
    "clf = clf.fit(ck_data_train_ipca, ck_label_train)\n",
    "ck_label_predict = clf.predict(ck_data_test_ipca)\n",
    "\n",
    "print(classification_report(ck_label_test, ck_label_predict, target_names=target_classes))\n",
    "print(confusion_matrix(ck_label_test, ck_label_predict, labels=range(7)))"
   ]
  },
  {
   "cell_type": "code",
   "execution_count": null,
   "metadata": {},
   "outputs": [],
   "source": []
  },
  {
   "cell_type": "code",
   "execution_count": null,
   "metadata": {},
   "outputs": [],
   "source": []
  },
  {
   "cell_type": "code",
   "execution_count": null,
   "metadata": {},
   "outputs": [],
   "source": []
  },
  {
   "cell_type": "code",
   "execution_count": null,
   "metadata": {},
   "outputs": [],
   "source": []
  }
 ],
 "metadata": {
  "kernelspec": {
   "display_name": "Python 3",
   "language": "python",
   "name": "python3"
  },
  "language_info": {
   "codemirror_mode": {
    "name": "ipython",
    "version": 3
   },
   "file_extension": ".py",
   "mimetype": "text/x-python",
   "name": "python",
   "nbconvert_exporter": "python",
   "pygments_lexer": "ipython3",
   "version": "3.7.1"
  }
 },
 "nbformat": 4,
 "nbformat_minor": 2
}
