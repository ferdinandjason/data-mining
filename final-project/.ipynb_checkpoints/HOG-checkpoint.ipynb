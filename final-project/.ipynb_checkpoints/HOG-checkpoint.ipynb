{
 "cells": [
  {
   "cell_type": "code",
   "execution_count": 4,
   "metadata": {},
   "outputs": [],
   "source": [
    "import cv2\n",
    "import pickle\n",
    "import numpy as np\n",
    "import matplotlib.pyplot as plt\n",
    "\n",
    "from sklearn.model_selection import train_test_split\n",
    "from sklearn.model_selection import GridSearchCV\n",
    "from sklearn.metrics import classification_report\n",
    "from sklearn.metrics import confusion_matrix\n",
    "from skimage.feature import hog\n",
    "from sklearn.decomposition import PCA\n",
    "from sklearn.svm import SVC\n",
    "\n",
    "%matplotlib inline"
   ]
  },
  {
   "cell_type": "code",
   "execution_count": 5,
   "metadata": {},
   "outputs": [],
   "source": [
    "with open('.\\dataset\\ck.pikle','rb') as f:\n",
    "    ck_data, ck_label = pickle.load(f)"
   ]
  },
  {
   "cell_type": "code",
   "execution_count": 11,
   "metadata": {},
   "outputs": [],
   "source": [
    "hog = cv2.HOGDescriptor()\n",
    "feature_hog_ck_data = []\n",
    "\n",
    "for image in ck_data :\n",
    "    image = cv2.resize(image, (128,128))\n",
    "    feature = hog.compute(image)\n",
    "    feature = np.array([item[0] for item in feature])\n",
    "    feature_hog_ck_data.append(feature)\n",
    "    \n",
    "ck_data_train, ck_data_test, ck_label_train, ck_label_test = train_test_split(np.array(feature_hog_ck_data), ck_label, test_size=0.25, random_state=42)"
   ]
  },
  {
   "cell_type": "code",
   "execution_count": 12,
   "metadata": {},
   "outputs": [
    {
     "name": "stdout",
     "output_type": "stream",
     "text": [
      "              precision    recall  f1-score   support\n",
      "\n",
      "     Neutral       0.23      0.69      0.34        13\n",
      "       Angry       0.45      0.36      0.40        14\n",
      "     Disgust       0.40      0.12      0.18        17\n",
      "        Fear       0.17      0.14      0.15         7\n",
      "       Happy       0.17      0.09      0.12        11\n",
      "         Sad       0.12      0.17      0.14         6\n",
      "    Surprise       0.17      0.07      0.10        14\n",
      "\n",
      "   micro avg       0.24      0.24      0.24        82\n",
      "   macro avg       0.24      0.23      0.21        82\n",
      "weighted avg       0.27      0.24      0.22        82\n",
      "\n",
      "[[9 0 0 0 0 3 1]\n",
      " [5 5 0 0 2 1 1]\n",
      " [7 4 2 0 1 2 1]\n",
      " [5 0 0 1 0 0 1]\n",
      " [5 0 2 2 1 0 1]\n",
      " [2 2 0 1 0 1 0]\n",
      " [7 0 1 2 2 1 1]]\n"
     ]
    }
   ],
   "source": [
    "target_classes = [\"Neutral\", \"Angry\", \"Disgust\", \"Fear\", \"Happy\", \"Sad\", \"Surprise\"]\n",
    "\n",
    "clf = SVC(kernel='rbf', class_weight='balanced', gamma=0.0001, C=1000.0)\n",
    "\n",
    "clf = clf.fit(ck_data_train, ck_label_train)\n",
    "ck_label_predict = clf.predict(ck_data_test)\n",
    "\n",
    "print(classification_report(ck_label_test, ck_label_predict, target_names=target_classes))\n",
    "print(confusion_matrix(ck_label_test, ck_label_predict, labels=range(7)))"
   ]
  },
  {
   "cell_type": "code",
   "execution_count": null,
   "metadata": {},
   "outputs": [],
   "source": []
  },
  {
   "cell_type": "code",
   "execution_count": null,
   "metadata": {},
   "outputs": [],
   "source": []
  }
 ],
 "metadata": {
  "kernelspec": {
   "display_name": "Python 3",
   "language": "python",
   "name": "python3"
  },
  "language_info": {
   "codemirror_mode": {
    "name": "ipython",
    "version": 3
   },
   "file_extension": ".py",
   "mimetype": "text/x-python",
   "name": "python",
   "nbconvert_exporter": "python",
   "pygments_lexer": "ipython3",
   "version": "3.7.1"
  }
 },
 "nbformat": 4,
 "nbformat_minor": 2
}
