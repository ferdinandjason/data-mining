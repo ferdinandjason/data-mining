{
 "cells": [
  {
   "cell_type": "code",
   "execution_count": 3,
   "metadata": {},
   "outputs": [],
   "source": [
    "import cv2\n",
    "import pickle\n",
    "import numpy as np\n",
    "import matplotlib.pyplot as plt\n",
    "\n",
    "from sklearn.model_selection import train_test_split\n",
    "from sklearn.model_selection import GridSearchCV\n",
    "from sklearn.metrics import classification_report\n",
    "from sklearn.metrics import confusion_matrix\n",
    "from sklearn.decomposition import PCA\n",
    "from sklearn.discriminant_analysis import LinearDiscriminantAnalysis\n",
    "from sklearn.svm import SVC\n",
    "\n",
    "%matplotlib inline"
   ]
  },
  {
   "cell_type": "code",
   "execution_count": 2,
   "metadata": {},
   "outputs": [],
   "source": [
    "with open('.\\dataset\\ck.pikle','rb') as f:\n",
    "    ck_data, ck_label = pickle.load(f)\n",
    "    \n",
    "ck_data_train, ck_data_test, ck_label_train, ck_label_test = train_test_split(ck_data, ck_label, test_size=0.2, random_state=42)"
   ]
  },
  {
   "cell_type": "code",
   "execution_count": 16,
   "metadata": {},
   "outputs": [],
   "source": [
    "pca = PCA(n_components=245, svd_solver='randomized', whiten=True).fit(ck_data_train)\n",
    "lda = LinearDiscriminantAnalysis().fit(pca.transform(ck_data_train), ck_label_train)\n",
    "ck_data_train_ipca = lda.transform(pca.transform(ck_data_train))\n",
    "ck_data_test_ipca = lda.transform(pca.transform(ck_data_test))"
   ]
  },
  {
   "cell_type": "code",
   "execution_count": 17,
   "metadata": {},
   "outputs": [
    {
     "name": "stdout",
     "output_type": "stream",
     "text": [
      "              precision    recall  f1-score   support\n",
      "\n",
      "     Neutral       0.45      0.50      0.48        10\n",
      "       Angry       0.45      0.38      0.42        13\n",
      "     Disgust       1.00      0.80      0.89        10\n",
      "        Fear       1.00      0.14      0.25         7\n",
      "       Happy       0.83      0.71      0.77         7\n",
      "         Sad       0.11      0.40      0.17         5\n",
      "    Surprise       1.00      0.79      0.88        14\n",
      "\n",
      "   micro avg       0.56      0.56      0.56        66\n",
      "   macro avg       0.69      0.53      0.55        66\n",
      "weighted avg       0.72      0.56      0.60        66\n",
      "\n",
      "[[ 5  3  0  0  0  2  0]\n",
      " [ 4  5  0  0  1  3  0]\n",
      " [ 0  2  8  0  0  0  0]\n",
      " [ 0  0  0  1  0  6  0]\n",
      " [ 0  0  0  0  5  2  0]\n",
      " [ 2  1  0  0  0  2  0]\n",
      " [ 0  0  0  0  0  3 11]]\n"
     ]
    },
    {
     "name": "stderr",
     "output_type": "stream",
     "text": [
      "C:\\ProgramData\\Anaconda3\\lib\\site-packages\\sklearn\\model_selection\\_search.py:841: DeprecationWarning: The default of the `iid` parameter will change from True to False in version 0.22 and will be removed in 0.24. This will change numeric results when test-set sizes are unequal.\n",
      "  DeprecationWarning)\n"
     ]
    }
   ],
   "source": [
    "param_grid = {\n",
    "    'C': [1e3, 5e3, 1e4, 5e4, 1e5],\n",
    "    'gamma': [0.0001, 0.0005, 0.001, 0.005, 0.01, 0.1], }\n",
    "target_classes = [\"Neutral\", \"Angry\", \"Disgust\", \"Fear\", \"Happy\", \"Sad\", \"Surprise\"]\n",
    "\n",
    "clf = GridSearchCV(SVC(kernel='rbf', class_weight='balanced'),param_grid, cv=5)\n",
    "\n",
    "clf = clf.fit(ck_data_train_ipca, ck_label_train)\n",
    "ck_label_predict = clf.predict(ck_data_test_ipca)\n",
    "\n",
    "print(classification_report(ck_label_test, ck_label_predict, target_names=target_classes))\n",
    "print(confusion_matrix(ck_label_test, ck_label_predict, labels=range(7)))"
   ]
  },
  {
   "cell_type": "code",
   "execution_count": null,
   "metadata": {},
   "outputs": [],
   "source": []
  },
  {
   "cell_type": "code",
   "execution_count": null,
   "metadata": {},
   "outputs": [],
   "source": []
  }
 ],
 "metadata": {
  "kernelspec": {
   "display_name": "Python 3",
   "language": "python",
   "name": "python3"
  },
  "language_info": {
   "codemirror_mode": {
    "name": "ipython",
    "version": 3
   },
   "file_extension": ".py",
   "mimetype": "text/x-python",
   "name": "python",
   "nbconvert_exporter": "python",
   "pygments_lexer": "ipython3",
   "version": "3.7.1"
  }
 },
 "nbformat": 4,
 "nbformat_minor": 2
}
