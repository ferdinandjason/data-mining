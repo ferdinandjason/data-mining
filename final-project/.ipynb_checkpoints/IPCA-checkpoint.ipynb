{
 "cells": [
  {
   "cell_type": "code",
   "execution_count": 1,
   "metadata": {},
   "outputs": [],
   "source": [
    "import cv2\n",
    "import pickle\n",
    "import numpy as np\n",
    "import matplotlib.pyplot as plt\n",
    "\n",
    "from sklearn.model_selection import train_test_split\n",
    "from sklearn.model_selection import GridSearchCV\n",
    "from sklearn.metrics import classification_report, confusion_matrix, accuracy_score\n",
    "from sklearn.decomposition import PCA\n",
    "from sklearn.discriminant_analysis import LinearDiscriminantAnalysis\n",
    "from sklearn.svm import SVC\n",
    "\n",
    "%matplotlib inline"
   ]
  },
  {
   "cell_type": "code",
   "execution_count": 2,
   "metadata": {},
   "outputs": [],
   "source": [
    "with open('./dataset/ck.pikle','rb') as f:\n",
    "    ck_data, ck_label = pickle.load(f)\n",
    "    \n",
    "ck_data_train, ck_data_test, ck_label_train, ck_label_test = train_test_split(ck_data, ck_label, test_size=0.25, random_state=42)"
   ]
  },
  {
   "cell_type": "code",
   "execution_count": 9,
   "metadata": {},
   "outputs": [],
   "source": [
    "pca = PCA(n_components=100, svd_solver='randomized', whiten=True).fit(ck_data_train)\n",
    "lda = LinearDiscriminantAnalysis(solver='svd').fit(pca.transform(ck_data_train), ck_label_train)\n",
    "\n",
    "ck_data_train_ipca = lda.transform(pca.transform(ck_data_train))\n",
    "ck_data_test_ipca = lda.transform(pca.transform(ck_data_test))"
   ]
  },
  {
   "cell_type": "code",
   "execution_count": 10,
   "metadata": {},
   "outputs": [
    {
     "name": "stdout",
     "output_type": "stream",
     "text": [
      "              precision    recall  f1-score   support\n",
      "\n",
      "     Neutral       0.69      0.75      0.72        12\n",
      "       Angry       0.67      0.55      0.60        11\n",
      "     Disgust       0.85      1.00      0.92        11\n",
      "        Fear       1.00      0.67      0.80         6\n",
      "       Happy       0.94      1.00      0.97        15\n",
      "         Sad       0.40      0.67      0.50         6\n",
      "    Surprise       1.00      0.81      0.89        21\n",
      "\n",
      "   micro avg       0.80      0.80      0.80        82\n",
      "   macro avg       0.79      0.78      0.77        82\n",
      "weighted avg       0.83      0.80      0.81        82\n",
      "\n",
      "[[ 9  1  0  0  0  2  0]\n",
      " [ 1  6  2  0  0  2  0]\n",
      " [ 0  0 11  0  0  0  0]\n",
      " [ 0  1  0  4  1  0  0]\n",
      " [ 0  0  0  0 15  0  0]\n",
      " [ 1  1  0  0  0  4  0]\n",
      " [ 2  0  0  0  0  2 17]]\n"
     ]
    }
   ],
   "source": [
    "target_classes = [\"Neutral\", \"Angry\", \"Disgust\", \"Fear\", \"Happy\", \"Sad\", \"Surprise\"]\n",
    "\n",
    "clf = SVC(kernel='rbf', class_weight='balanced', gamma=0.0001, C=1000.0)\n",
    "\n",
    "clf = clf.fit(ck_data_train_ipca, ck_label_train)\n",
    "ck_label_predict = clf.predict(ck_data_test_ipca)\n",
    "\n",
    "print(classification_report(ck_label_test, ck_label_predict, target_names=target_classes))\n",
    "print(confusion_matrix(ck_label_test, ck_label_predict, labels=range(7)))"
   ]
  },
  {
   "cell_type": "code",
   "execution_count": null,
   "metadata": {},
   "outputs": [],
   "source": []
  },
  {
   "cell_type": "code",
   "execution_count": null,
   "metadata": {},
   "outputs": [],
   "source": []
  },
  {
   "cell_type": "code",
   "execution_count": null,
   "metadata": {},
   "outputs": [],
   "source": []
  },
  {
   "cell_type": "code",
   "execution_count": null,
   "metadata": {},
   "outputs": [],
   "source": []
  }
 ],
 "metadata": {
  "kernelspec": {
   "display_name": "Python 3",
   "language": "python",
   "name": "python3"
  },
  "language_info": {
   "codemirror_mode": {
    "name": "ipython",
    "version": 3
   },
   "file_extension": ".py",
   "mimetype": "text/x-python",
   "name": "python",
   "nbconvert_exporter": "python",
   "pygments_lexer": "ipython3",
   "version": "3.6.8"
  }
 },
 "nbformat": 4,
 "nbformat_minor": 2
}
