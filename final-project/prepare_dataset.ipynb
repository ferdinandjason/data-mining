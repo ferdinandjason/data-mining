{
 "cells": [
  {
   "cell_type": "code",
   "execution_count": 2,
   "metadata": {},
   "outputs": [],
   "source": [
    "import os\n",
    "import cv2\n",
    "import pickle\n",
    "import numpy as np\n",
    "import matplotlib.pyplot as plt\n",
    "\n",
    "from skimage import img_as_ubyte\n",
    "\n",
    "%matplotlib inline"
   ]
  },
  {
   "cell_type": "code",
   "execution_count": 12,
   "metadata": {},
   "outputs": [],
   "source": [
    "N_CLASSES = 7\n",
    "SCALE_FACTOR = 1.01\n",
    "SIZE = (128,128)\n",
    "CLASSES = [\"Neutral\", \"Angry\", \"Disgust\", \"Fear\", \"Happy\", \"Sad\", \"Surprise\"]\n",
    "\n",
    "clahe = cv2.createCLAHE(clipLimit=2.0, tileGridSize=(8,8))\n",
    "face_cascade = cv2.CascadeClassifier('./opencv/haarcascade_frontalface_default.xml')"
   ]
  },
  {
   "cell_type": "code",
   "execution_count": 13,
   "metadata": {},
   "outputs": [],
   "source": [
    "def load_ck_dataset(root):\n",
    "    ck_data = []\n",
    "    ck_label = []\n",
    "    for emoticon_code in os.listdir(root):\n",
    "        folder_path_label = os.path.join(root, emoticon_code)\n",
    "        for face_image in os.listdir(folder_path_label):\n",
    "            face_path = os.path.join(folder_path_label, face_image)\n",
    "            face_image = cv2.imread(face_path, cv2.IMREAD_GRAYSCALE)\n",
    "            face_image_clahe = clahe.apply(face_image)\n",
    "            faces = face_cascade.detectMultiScale(face_image_clahe, SCALE_FACTOR, 5)\n",
    "            if len(faces):\n",
    "                for (x,y,w,h) in faces :\n",
    "                    face = cv2.resize(face_image[y:y+h, x:x+w], SIZE, interpolation=cv2.INTER_AREA)\n",
    "                    face = face.flatten()\n",
    "                    ck_data.append(face)\n",
    "                    ck_label.append(int(emoticon_code))\n",
    "                    break\n",
    "            else :\n",
    "                print(face_path)\n",
    "                \n",
    "    return [np.array(ck_data), np.array(ck_label)]"
   ]
  },
  {
   "cell_type": "code",
   "execution_count": 14,
   "metadata": {},
   "outputs": [],
   "source": [
    "ck_dataset = load_ck_dataset('./dataset/ck')\n",
    "with open('./dataset/ck.pikle','wb') as f:\n",
    "    pickle.dump(ck_dataset, f)"
   ]
  },
  {
   "cell_type": "code",
   "execution_count": null,
   "metadata": {},
   "outputs": [],
   "source": []
  }
 ],
 "metadata": {
  "kernelspec": {
   "display_name": "Python 3",
   "language": "python",
   "name": "python3"
  },
  "language_info": {
   "codemirror_mode": {
    "name": "ipython",
    "version": 3
   },
   "file_extension": ".py",
   "mimetype": "text/x-python",
   "name": "python",
   "nbconvert_exporter": "python",
   "pygments_lexer": "ipython3",
   "version": "3.6.8"
  }
 },
 "nbformat": 4,
 "nbformat_minor": 2
}
