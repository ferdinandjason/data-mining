{
 "cells": [
  {
   "cell_type": "code",
   "execution_count": 16,
   "metadata": {},
   "outputs": [],
   "source": [
    "import cv2\n",
    "import pickle\n",
    "import numpy as np\n",
    "import matplotlib.pyplot as plt\n",
    "\n",
    "from sklearn.model_selection import train_test_split\n",
    "from sklearn.model_selection import GridSearchCV\n",
    "from sklearn.metrics import classification_report\n",
    "from sklearn.metrics import confusion_matrix\n",
    "from sklearn.decomposition import PCA\n",
    "from sklearn.svm import SVC\n",
    "\n",
    "%matplotlib inline"
   ]
  },
  {
   "cell_type": "code",
   "execution_count": 43,
   "metadata": {},
   "outputs": [],
   "source": [
    "with open('.\\dataset\\ck.pikle','rb') as f:\n",
    "    ck_data, ck_label = pickle.load(f)\n",
    "    \n",
    "ck_data_train, ck_data_test, ck_label_train, ck_label_test = train_test_split(ck_data, ck_label, test_size=0.25, random_state=42)"
   ]
  },
  {
   "cell_type": "code",
   "execution_count": 62,
   "metadata": {},
   "outputs": [],
   "source": [
    "pca = PCA(n_components=244, svd_solver='randomized', whiten=True).fit(ck_data_train)\n",
    "ck_data_train_pca = pca.transform(ck_data_train)\n",
    "ck_data_test_pca = pca.transform(ck_data_test)"
   ]
  },
  {
   "cell_type": "code",
   "execution_count": 63,
   "metadata": {},
   "outputs": [
    {
     "name": "stdout",
     "output_type": "stream",
     "text": [
      "              precision    recall  f1-score   support\n",
      "\n",
      "     Neutral       0.62      0.38      0.48        13\n",
      "       Angry       0.56      0.71      0.63        14\n",
      "     Disgust       0.71      0.88      0.79        17\n",
      "        Fear       1.00      0.43      0.60         7\n",
      "       Happy       1.00      1.00      1.00        11\n",
      "         Sad       0.14      0.17      0.15         6\n",
      "    Surprise       1.00      1.00      1.00        14\n",
      "\n",
      "   micro avg       0.72      0.72      0.72        82\n",
      "   macro avg       0.72      0.65      0.66        82\n",
      "weighted avg       0.74      0.72      0.71        82\n",
      "\n",
      "[[ 5  3  3  0  0  2  0]\n",
      " [ 1 10  2  0  0  1  0]\n",
      " [ 1  0 15  0  0  1  0]\n",
      " [ 1  1  0  3  0  2  0]\n",
      " [ 0  0  0  0 11  0  0]\n",
      " [ 0  4  1  0  0  1  0]\n",
      " [ 0  0  0  0  0  0 14]]\n"
     ]
    }
   ],
   "source": [
    "target_classes = [\"Neutral\", \"Angry\", \"Disgust\", \"Fear\", \"Happy\", \"Sad\", \"Surprise\"]\n",
    "\n",
    "clf = SVC(kernel='rbf', class_weight='balanced', gamma=0.0001, C=1000.0)\n",
    "\n",
    "clf = clf.fit(ck_data_train_pca, ck_label_train)\n",
    "ck_label_predict = clf.predict(ck_data_test_pca)\n",
    "\n",
    "print(classification_report(ck_label_test, ck_label_predict, target_names=target_classes))\n",
    "print(confusion_matrix(ck_label_test, ck_label_predict, labels=range(7)))"
   ]
  },
  {
   "cell_type": "code",
   "execution_count": null,
   "metadata": {},
   "outputs": [],
   "source": []
  },
  {
   "cell_type": "code",
   "execution_count": null,
   "metadata": {},
   "outputs": [],
   "source": []
  },
  {
   "cell_type": "code",
   "execution_count": null,
   "metadata": {},
   "outputs": [],
   "source": []
  },
  {
   "cell_type": "code",
   "execution_count": null,
   "metadata": {},
   "outputs": [],
   "source": []
  },
  {
   "cell_type": "code",
   "execution_count": null,
   "metadata": {},
   "outputs": [],
   "source": []
  },
  {
   "cell_type": "code",
   "execution_count": null,
   "metadata": {},
   "outputs": [],
   "source": []
  },
  {
   "cell_type": "code",
   "execution_count": null,
   "metadata": {},
   "outputs": [],
   "source": []
  },
  {
   "cell_type": "code",
   "execution_count": null,
   "metadata": {},
   "outputs": [],
   "source": []
  },
  {
   "cell_type": "code",
   "execution_count": null,
   "metadata": {},
   "outputs": [],
   "source": []
  },
  {
   "cell_type": "code",
   "execution_count": null,
   "metadata": {},
   "outputs": [],
   "source": []
  }
 ],
 "metadata": {
  "kernelspec": {
   "display_name": "Python 3",
   "language": "python",
   "name": "python3"
  },
  "language_info": {
   "codemirror_mode": {
    "name": "ipython",
    "version": 3
   },
   "file_extension": ".py",
   "mimetype": "text/x-python",
   "name": "python",
   "nbconvert_exporter": "python",
   "pygments_lexer": "ipython3",
   "version": "3.7.1"
  }
 },
 "nbformat": 4,
 "nbformat_minor": 2
}
